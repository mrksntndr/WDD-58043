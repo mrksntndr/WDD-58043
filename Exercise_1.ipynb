{
  "nbformat": 4,
  "nbformat_minor": 0,
  "metadata": {
    "colab": {
      "name": "Exercise 1.ipynb",
      "provenance": [],
      "authorship_tag": "ABX9TyPOz+IVD3ykALa3WbcKRl0I",
      "include_colab_link": true
    },
    "kernelspec": {
      "name": "python3",
      "display_name": "Python 3"
    },
    "language_info": {
      "name": "python"
    }
  },
  "cells": [
    {
      "cell_type": "markdown",
      "metadata": {
        "id": "view-in-github",
        "colab_type": "text"
      },
      "source": [
        "<a href=\"https://colab.research.google.com/github/mrksntndr/WEB-DESIGN-58043/blob/main/Exercise_1.ipynb\" target=\"_parent\"><img src=\"https://colab.research.google.com/assets/colab-badge.svg\" alt=\"Open In Colab\"/></a>"
      ]
    },
    {
      "cell_type": "markdown",
      "source": [
        "##Create a Python program that computes the area of a circle"
      ],
      "metadata": {
        "id": "wMWum1hWn0bj"
      }
    },
    {
      "cell_type": "code",
      "execution_count": 6,
      "metadata": {
        "colab": {
          "base_uri": "https://localhost:8080/"
        },
        "id": "lRVUjLSqlZMX",
        "outputId": "b31eb3e9-fe94-4cdb-94de-f16c091297ca"
      },
      "outputs": [
        {
          "output_type": "stream",
          "name": "stdout",
          "text": [
            "What measurement would you like to use to solve the area of the circle?\n",
            "1 = Radius\n",
            "2 = Diameter\n",
            "1\n",
            "Enter the value of the radius of the circle:10\n",
            "The area of the circle = 314.00\n"
          ]
        }
      ],
      "source": [
        "PI = 3.14\n",
        "given = int(input(\"What measurement would you like to use to solve the area of the circle?\\n1 = Radius\\n2 = Diameter\\n\"))\n",
        "\n",
        "if given == 1:\n",
        "  r = float (input(\"Enter the value of the radius of the circle:\"))\n",
        "  area = PI*r*r\n",
        "  print(\"The area of the circle = %.2f\" %area)\n",
        "  \n",
        "elif given == 2:\n",
        "  d = float (input(\"Enter the value of the diameter of the circle:\"))  \n",
        "  area = (PI*d*d)/4\n",
        "  print(\"The area of the circle = %.2f\" %area)"
      ]
    },
    {
      "cell_type": "code",
      "source": [],
      "metadata": {
        "id": "o3YTCpmho3rE"
      },
      "execution_count": null,
      "outputs": []
    }
  ]
}